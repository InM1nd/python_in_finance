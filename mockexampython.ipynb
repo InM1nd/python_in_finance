{
 "cells": [
  {
   "cell_type": "code",
   "execution_count": 1,
   "metadata": {},
   "outputs": [],
   "source": [
    "import numpy as np\n",
    "import matplotlib.pyplot as plt\n",
    "%matplotlib inline\n",
    "import pandas as pd\n",
    "import pandas_datareader as dr\n",
    "import seaborn as sns\n",
    "import statsmodels.api as sm\n",
    "import statsmodels.formula.api as smf\n",
    "import linearmodels as lm\n",
    "import datetime"
   ]
  },
  {
   "cell_type": "markdown",
   "metadata": {},
   "source": [
    "Create a numpy array with 5 rows and 5 columns containing normally distributed random numbers with a standard deviation of 10. Make sure the random numbers you generate are replicable. Create a second numpy array with the values 1, 2, 3, 4, 5 and multiply the two arrays applying matrix multiplication."
   ]
  },
  {
   "cell_type": "code",
   "execution_count": 2,
   "metadata": {},
   "outputs": [
    {
     "data": {
      "text/plain": [
       "array([[ 8.85947941,  1.55824717, 29.38938472,  9.90685832, 37.64423588],\n",
       "       [ 5.26675636, 18.15107506, 26.52210891,  3.57075839, 25.86722982],\n",
       "       [ 3.43621292,  4.24587389, 10.82020326, 10.83100693, 38.0812509 ],\n",
       "       [ 4.78041899,  1.97989354,  8.26184334, 31.77709236, 25.69851572],\n",
       "       [ 4.53294809,  5.10302499,  3.41929805, 32.97252203, 15.88767493]])"
      ]
     },
     "execution_count": 2,
     "metadata": {},
     "output_type": "execute_result"
    }
   ],
   "source": [
    "#question 1\n",
    "import numpy as np  \n",
    "np.random.seed(321)\n",
    "\n",
    "a = 10 * np.random.rand(5,5)\n",
    "b = np.array([1,2,3,4,5]) \n",
    "c = a * b\n",
    "c"
   ]
  },
  {
   "cell_type": "markdown",
   "metadata": {},
   "source": [
    "Write a function that takes two numbers x and y and prints 'x is divisible by y' (where x and y should be replaced by their respective values in the printed text) if x is divisible by y, and that otherwise prints 'x isn't divisible by y'."
   ]
  },
  {
   "cell_type": "code",
   "execution_count": 3,
   "metadata": {},
   "outputs": [
    {
     "name": "stdout",
     "output_type": "stream",
     "text": [
      "12  is divisible by 3\n"
     ]
    }
   ],
   "source": [
    "def check(x, y):\n",
    "\treturn print(x, \" is divisible by\", y) if x % y == 0 else print(x, \" is not divisible by\", y)\n",
    "\n",
    "check(12,3)"
   ]
  },
  {
   "cell_type": "markdown",
   "metadata": {},
   "source": [
    "Write a function that takes a string and prints each character of the string in a separate line."
   ]
  },
  {
   "cell_type": "code",
   "execution_count": 4,
   "metadata": {},
   "outputs": [
    {
     "name": "stdout",
     "output_type": "stream",
     "text": [
      "k\n",
      "e\n",
      "r\n",
      "n\n",
      "e\n",
      "l\n"
     ]
    }
   ],
   "source": [
    "#question 3\n",
    "def func(s):\n",
    "    for index, letter in enumerate(s):\n",
    "        print(letter)\n",
    "        \n",
    "func(\"kernel\")"
   ]
  },
  {
   "cell_type": "markdown",
   "metadata": {},
   "source": [
    "Read the file 'tr_eikon_eod_data.csv' that you can find in the folder Course Material / data into a pandas DataFrame. Compute daily returns based on relative changes in prices. Using statsmodels, estimate an OLS regression of the return of AAPL.O on a constant and the return of .SPX, and print a summary of the results."
   ]
  },
  {
   "cell_type": "code",
   "execution_count": 5,
   "metadata": {},
   "outputs": [
    {
     "name": "stdout",
     "output_type": "stream",
     "text": [
      "                            OLS Regression Results                            \n",
      "==============================================================================\n",
      "Dep. Variable:                 AAPL.O   R-squared:                       0.318\n",
      "Model:                            OLS   Adj. R-squared:                  0.317\n",
      "Method:                 Least Squares   F-statistic:                     1030.\n",
      "Date:                Mon, 25 Jan 2021   Prob (F-statistic):          6.51e-186\n",
      "Time:                        12:46:47   Log-Likelihood:                 6490.4\n",
      "No. Observations:                2214   AIC:                        -1.298e+04\n",
      "Df Residuals:                    2212   BIC:                        -1.297e+04\n",
      "Df Model:                           1                                         \n",
      "Covariance Type:            nonrobust                                         \n",
      "==============================================================================\n",
      "                 coef    std err          t      P>|t|      [0.025      0.975]\n",
      "------------------------------------------------------------------------------\n",
      "const          0.0005      0.000      1.878      0.060   -2.27e-05       0.001\n",
      ".SPX           0.9598      0.030     32.098      0.000       0.901       1.018\n",
      "==============================================================================\n",
      "Omnibus:                      368.316   Durbin-Watson:                   1.923\n",
      "Prob(Omnibus):                  0.000   Jarque-Bera (JB):             6512.861\n",
      "Skew:                          -0.168   Prob(JB):                         0.00\n",
      "Kurtosis:                      11.396   Cond. No.                         109.\n",
      "==============================================================================\n",
      "\n",
      "Warnings:\n",
      "[1] Standard Errors assume that the covariance matrix of the errors is correctly specified.\n"
     ]
    }
   ],
   "source": [
    "#question 4\n",
    "import pandas as pd\n",
    "import statsmodels.api as sm\n",
    "\n",
    "file = \"tr_eikon_eod_data.csv\"\n",
    "df = pd.read_csv(file, parse_dates = ['Date'], index_col = 'Date')\n",
    "daily_ret = df[:].pct_change()\n",
    "\n",
    "y = daily_ret[\"AAPL.O\"].dropna()\n",
    "X = sm.add_constant(daily_ret[\".SPX\"]).dropna()\n",
    "\n",
    "model = sm.OLS(y, X)\n",
    "results = model.fit()\n",
    "print(results.summary())"
   ]
  },
  {
   "cell_type": "markdown",
   "metadata": {},
   "source": [
    "Read the file 'tr_eikon_eod_data_semicolon.csv' that you can find in the folder Course Material / data into a pandas DataFrame and compute all assets' cumulative arithmetic returns (assuming there are no dividends or other payouts such that price changes reflect the returns)."
   ]
  },
  {
   "cell_type": "code",
   "execution_count": 6,
   "metadata": {},
   "outputs": [
    {
     "data": {
      "image/png": "[encoded data removed]",
      "text/plain": [
       "<Figure size 432x288 with 1 Axes>"
      ]
     },
     "metadata": {},
     "output_type": "display_data"
    },
    {
     "name": "stdout",
     "output_type": "stream",
     "text": [
      "              AAPL.O    MSFT.O    INTC.O     AMZN.O      GS.N       SPY  \\\n",
      "Date                                                                      \n",
      "2010-01-01       NaN       NaN       NaN        NaN       NaN       NaN   \n",
      "2010-01-04       NaN       NaN       NaN        NaN       NaN       NaN   \n",
      "2010-01-05  1.001729  1.000323  0.999521   1.005900  1.017680  1.002647   \n",
      "2010-01-06  0.985795  0.994184  0.996169   0.987677  1.006818  1.003353   \n",
      "2010-01-07  0.983973  0.983910  0.986590   0.970874  1.026520  1.007588   \n",
      "...              ...       ...       ...        ...       ...       ...   \n",
      "2018-06-25  5.958559  3.178998  2.428640  12.420836  1.279986  2.391247   \n",
      "2018-06-26  6.032481  3.201292  2.378831  12.629500  1.280217  2.396541   \n",
      "2018-06-27  6.023650  3.151535  2.335249  12.401120  1.272128  2.376688   \n",
      "2018-06-28  6.067480  3.186753  2.358716  12.706871  1.290848  2.390276   \n",
      "2018-06-29  6.054723  3.186107  2.380747  12.694548  1.274382  2.393717   \n",
      "\n",
      "                .SPX      .VIX      EUR=      XAU=       GDX       GLD  \n",
      "Date                                                                    \n",
      "2010-01-01       NaN       NaN       NaN       NaN       NaN       NaN  \n",
      "2010-01-04       NaN       NaN  1.006144  1.021572       NaN       NaN  \n",
      "2010-01-05  1.003116  0.965569  1.003142  1.020340  1.009642  0.999089  \n",
      "2010-01-06  1.003663  0.956088  1.006214  1.038446  1.034165  1.015574  \n",
      "2010-01-07  1.007679  0.951098  0.999651  1.032426  1.029134  1.009290  \n",
      "...              ...       ...       ...       ...       ...       ...  \n",
      "2018-06-25  2.398141  0.864770  0.817008  1.153829  0.461329  1.091894  \n",
      "2018-06-26  2.403428  0.794411  0.813028  1.148028  0.460071  1.086157  \n",
      "2018-06-27  2.382748  0.893713  0.806535  1.141624  0.457137  1.079964  \n",
      "2018-06-28  2.397470  0.840818  0.807582  1.138213  0.459652  1.076685  \n",
      "2018-06-29  2.399289  0.802894  0.815681  1.142199  0.467617  1.080601  \n",
      "\n",
      "[2216 rows x 12 columns]\n"
     ]
    }
   ],
   "source": [
    "#question 5\n",
    "import matplotlib.pyplot as plt\n",
    "file = \"tr_eikon_eod_data.csv\"\n",
    "df = pd.read_csv(file, index_col = 0, parse_dates = [0])\n",
    "df1 = np.cumprod(1 + df.pct_change())\n",
    "\n",
    "sns.set()\n",
    "plt.plot(df1)\n",
    "plt.legend([\"AAPL\", \"MSFT\", \"INTC\", \"AMZN\", \"GS\", \"SPY\"], ncol=2, loc='upper left')\n",
    "plt.show()\n",
    "print(df1)"
   ]
  },
  {
   "cell_type": "markdown",
   "metadata": {},
   "source": [
    "Read the file 'tr_eikon_eod_data.csv' that you can find in the folder Course Material / data into a pandas DataFrame, set the index to a DatetimeIndex, and plot the timeseries of prices of AAPL.O and MSFT.O in the same graph."
   ]
  },
  {
   "cell_type": "code",
   "execution_count": 7,
   "metadata": {},
   "outputs": [
    {
     "data": {
      "image/png": "[encoded data removed]",
      "text/plain": [
       "<Figure size 432x288 with 1 Axes>"
      ]
     },
     "metadata": {},
     "output_type": "display_data"
    }
   ],
   "source": [
    "#question 6\n",
    "from datetime import date\n",
    "file = \"tr_eikon_eod_data.csv\"\n",
    "df = pd.read_csv(file, index_col = 0, parse_dates = [0])\n",
    "df.index = pd.to_datetime(df.index)\n",
    "\n",
    "sns.set()\n",
    "plt.plot(df[\"AAPL.O\"], label = \"AAPL\")\n",
    "plt.plot(df[\"MSFT.O\"], label = \"MSFT\")\n",
    "plt.legend([\"AAPL\", \"MSFT\"], ncol=1, loc='upper left')\n",
    "plt.show()"
   ]
  },
  {
   "cell_type": "markdown",
   "metadata": {},
   "source": [
    "Create a one-dimensional array x containing the odd numbers from 1 to 19. Use Boolean indexing to obtain a new array y containing the numbers larger than 5 and smaller than 15 that are contained in x."
   ]
  },
  {
   "cell_type": "code",
   "execution_count": 8,
   "metadata": {},
   "outputs": [
    {
     "data": {
      "text/plain": [
       "array([ 7,  9, 11, 13, 15, 17, 19])"
      ]
     },
     "execution_count": 8,
     "metadata": {},
     "output_type": "execute_result"
    }
   ],
   "source": [
    "#question 7\n",
    "def odd(n):\n",
    "    nums = []\n",
    "    for i in range(1, n, 2):\n",
    "        nums.append(i)\n",
    "    return nums\n",
    "\n",
    "x = np.array(odd(20))\n",
    "y_prime = x[5<x]\n",
    "y = y_prime[y_prime<20]\n",
    "y"
   ]
  },
  {
   "cell_type": "code",
   "execution_count": 9,
   "metadata": {},
   "outputs": [
    {
     "data": {
      "text/plain": [
       "array([ 7,  9, 11, 13])"
      ]
     },
     "execution_count": 9,
     "metadata": {},
     "output_type": "execute_result"
    }
   ],
   "source": [
    "a = np.array(np.arange(1, 20, 2))\n",
    "y = a[a>5]\n",
    "z = y[y<15]\n",
    "z"
   ]
  },
  {
   "cell_type": "markdown",
   "metadata": {},
   "source": [
    "Read the file 'tr_eikon_eod_data.csv' that you can find in the folder Course Material / data into a pandas DataFrame. Turn this 'wide' dataset into a 'long' one, i.e., one in which each combination of date and financial instrument has its own row."
   ]
  },
  {
   "cell_type": "code",
   "execution_count": 10,
   "metadata": {},
   "outputs": [
    {
     "name": "stdout",
     "output_type": "stream",
     "text": [
      "Date              \n",
      "2010-01-01  EUR=         1.432300\n",
      "            XAU=      1096.350000\n",
      "2010-01-04  AAPL.O      30.572827\n",
      "            MSFT.O      30.950000\n",
      "            INTC.O      20.880000\n",
      "                         ...     \n",
      "2018-06-29  .VIX        16.090000\n",
      "            EUR=         1.168300\n",
      "            XAU=      1252.250000\n",
      "            GDX         22.310000\n",
      "            GLD        118.650000\n",
      "Length: 25807, dtype: float64\n"
     ]
    }
   ],
   "source": [
    "#question 8\n",
    "\n",
    "file = \"tr_eikon_eod_data.csv\"\n",
    "df = pd.read_csv(file,parse_dates=['Date'], index_col='Date')\n",
    "df1 = df.stack()\n",
    "print(df1)"
   ]
  },
  {
   "cell_type": "code",
   "execution_count": 11,
   "metadata": {},
   "outputs": [
    {
     "data": {
      "text/plain": [
       "array([52,  3, 16, 63, 83, 39, 30, 91,  4, 43, 13, 37, 71,  0, 11, 10, 88,\n",
       "        7, 33, 64, 98, 85, 38, 49, 77,  2, 88, 76, 67,  0, 19, 73, 60, 56,\n",
       "       69, 95, 54, 93,  5, 34, 93, 92, 90, 19, 89,  9, 68, 31, 10, 26, 46,\n",
       "       83,  1, 29, 58, 55, 91, 62, 90, 18, 57, 79, 78, 92,  3, 27, 94, 63,\n",
       "       94, 98, 92, 34, 85, 64, 59, 74, 20, 52, 33, 64,  9, 96,  3, 80, 95,\n",
       "       79, 72, 71,  9, 80, 23, 42, 80, 76, 76, 95, 11, 58, 75, 81])"
      ]
     },
     "execution_count": 11,
     "metadata": {},
     "output_type": "execute_result"
    }
   ],
   "source": [
    "a = np.array(np.random.randint(0,100,100))\n",
    "a"
   ]
  },
  {
   "cell_type": "code",
   "execution_count": 12,
   "metadata": {},
   "outputs": [
    {
     "name": "stdout",
     "output_type": "stream",
     "text": [
      "[array([52,  3, 16, 63, 83, 39, 30, 91,  4, 43, 13, 37, 71,  0, 11, 10, 88,\n",
      "        7, 33, 64, 98, 85, 38, 49, 77,  2, 88, 76, 67,  0, 19, 73, 60, 56,\n",
      "       69, 95, 54, 93,  5, 34, 93, 92, 90, 19, 89,  9, 68, 31, 10, 26, 46,\n",
      "       83,  1, 29, 58, 55, 91, 62, 90, 18, 57, 79, 78, 92,  3, 27, 94, 63,\n",
      "       94, 98, 92, 34, 85, 64, 59, 74, 20, 52, 33, 64,  9, 96,  3, 80, 95,\n",
      "       79, 72, 71,  9, 80, 23, 42, 80, 76, 76, 95, 11, 58, 75, 81])]\n",
      "[]\n",
      "[]\n"
     ]
    }
   ],
   "source": [
    "morethan52 = []\n",
    "lessthan50 = []\n",
    "equals50 = []\n",
    "\n",
    "for i in range(len(a)):\n",
    "    if i > 52: break\n",
    "morethan52.append(a)\n",
    "  \n",
    "\n",
    "print(morethan52)\n",
    "print(lessthan50)\n",
    "print(equals50)"
   ]
  },
  {
   "cell_type": "code",
   "execution_count": 13,
   "metadata": {},
   "outputs": [
    {
     "name": "stdout",
     "output_type": "stream",
     "text": [
      "[52, 63, 83, 91, 71, 88, 64, 98, 85, 77, 88, 76, 67, 73, 60, 56, 69, 95, 54, 93, 93, 92, 90, 89, 68, 83, 58, 55, 91, 62, 90, 57, 79, 78, 92, 94, 63, 94, 98, 92, 85, 64, 59, 74, 52, 64, 96, 80, 95, 79, 72, 71, 80, 80, 76, 76, 95, 58, 75, 81]\n",
      "[3, 16, 39, 30, 4, 43, 13, 37, 0, 11, 10, 7, 33, 38, 49, 2, 0, 19, 5, 34, 19, 9, 31, 10, 26, 46, 1, 29, 18, 3, 27, 34, 20, 33, 9, 3, 9, 23, 42, 11]\n"
     ]
    }
   ],
   "source": [
    "z = []\n",
    "o = []\n",
    "for i in a:\n",
    "    if i > 50:\n",
    "        z.append(i)\n",
    "    if i < 50:\n",
    "        o.append(i)\n",
    "        \n",
    "print(z)\n",
    "print(o)"
   ]
  },
  {
   "cell_type": "code",
   "execution_count": 14,
   "metadata": {},
   "outputs": [],
   "source": [
    "mu, sigma = 1, 3\n",
    "b = pd.DataFrame(np.random.normal(mu, sigma, size = (10, 10)))\n",
    "y = np.random.choice(b[0], size = 3)"
   ]
  },
  {
   "cell_type": "code",
   "execution_count": 15,
   "metadata": {},
   "outputs": [
    {
     "data": {
      "text/plain": [
       "'ERROR404'"
      ]
     },
     "execution_count": 15,
     "metadata": {},
     "output_type": "execute_result"
    }
   ],
   "source": [
    "def mean(b):\n",
    "    if b.ndim == 1:\n",
    "        return np.sum(b)/np.size(b)\n",
    "    if b.ndim != 1:\n",
    "        return \"ERROR404\"\n",
    "    \n",
    "mean(b)"
   ]
  },
  {
   "cell_type": "code",
   "execution_count": 18,
   "metadata": {},
   "outputs": [
    {
     "data": {
      "text/html": [
       "<div>\n",
       "<style scoped>\n",
       "    .dataframe tbody tr th:only-of-type {\n",
       "        vertical-align: middle;\n",
       "    }\n",
       "\n",
       "    .dataframe tbody tr th {\n",
       "        vertical-align: top;\n",
       "    }\n",
       "\n",
       "    .dataframe thead th {\n",
       "        text-align: right;\n",
       "    }\n",
       "</style>\n",
       "<table border=\"1\" class=\"dataframe\">\n",
       "  <thead>\n",
       "    <tr style=\"text-align: right;\">\n",
       "      <th></th>\n",
       "      <th>0</th>\n",
       "      <th>1</th>\n",
       "      <th>2</th>\n",
       "      <th>3</th>\n",
       "      <th>4</th>\n",
       "      <th>5</th>\n",
       "      <th>6</th>\n",
       "      <th>7</th>\n",
       "      <th>8</th>\n",
       "      <th>9</th>\n",
       "    </tr>\n",
       "  </thead>\n",
       "  <tbody>\n",
       "    <tr>\n",
       "      <th>0</th>\n",
       "      <td>-5.869106</td>\n",
       "      <td>4.882390</td>\n",
       "      <td>2.249924</td>\n",
       "      <td>2.560904</td>\n",
       "      <td>2.529960</td>\n",
       "      <td>-0.082362</td>\n",
       "      <td>-2.956283</td>\n",
       "      <td>0.291085</td>\n",
       "      <td>3.061636</td>\n",
       "      <td>1.299813</td>\n",
       "    </tr>\n",
       "    <tr>\n",
       "      <th>1</th>\n",
       "      <td>3.717857</td>\n",
       "      <td>-2.567607</td>\n",
       "      <td>1.810532</td>\n",
       "      <td>0.631393</td>\n",
       "      <td>4.196561</td>\n",
       "      <td>3.672119</td>\n",
       "      <td>0.139887</td>\n",
       "      <td>0.935988</td>\n",
       "      <td>3.757964</td>\n",
       "      <td>-1.118441</td>\n",
       "    </tr>\n",
       "    <tr>\n",
       "      <th>2</th>\n",
       "      <td>-1.544618</td>\n",
       "      <td>-2.223348</td>\n",
       "      <td>1.144065</td>\n",
       "      <td>-0.376093</td>\n",
       "      <td>-1.409134</td>\n",
       "      <td>-0.733838</td>\n",
       "      <td>3.368493</td>\n",
       "      <td>-2.749263</td>\n",
       "      <td>3.167388</td>\n",
       "      <td>0.971737</td>\n",
       "    </tr>\n",
       "    <tr>\n",
       "      <th>3</th>\n",
       "      <td>9.915969</td>\n",
       "      <td>0.633395</td>\n",
       "      <td>4.795035</td>\n",
       "      <td>1.022137</td>\n",
       "      <td>-4.390733</td>\n",
       "      <td>-0.611776</td>\n",
       "      <td>2.359812</td>\n",
       "      <td>3.756437</td>\n",
       "      <td>-2.479159</td>\n",
       "      <td>2.972066</td>\n",
       "    </tr>\n",
       "    <tr>\n",
       "      <th>4</th>\n",
       "      <td>4.272075</td>\n",
       "      <td>-4.266528</td>\n",
       "      <td>5.422177</td>\n",
       "      <td>0.980811</td>\n",
       "      <td>-4.524399</td>\n",
       "      <td>0.232699</td>\n",
       "      <td>5.752851</td>\n",
       "      <td>0.515522</td>\n",
       "      <td>-1.096346</td>\n",
       "      <td>3.086974</td>\n",
       "    </tr>\n",
       "    <tr>\n",
       "      <th>5</th>\n",
       "      <td>-0.063346</td>\n",
       "      <td>-4.882026</td>\n",
       "      <td>4.244869</td>\n",
       "      <td>1.682108</td>\n",
       "      <td>5.264801</td>\n",
       "      <td>0.050215</td>\n",
       "      <td>-2.358503</td>\n",
       "      <td>-3.203405</td>\n",
       "      <td>-3.403312</td>\n",
       "      <td>3.650486</td>\n",
       "    </tr>\n",
       "    <tr>\n",
       "      <th>6</th>\n",
       "      <td>-1.557851</td>\n",
       "      <td>4.368646</td>\n",
       "      <td>1.293297</td>\n",
       "      <td>0.210809</td>\n",
       "      <td>2.408091</td>\n",
       "      <td>0.526526</td>\n",
       "      <td>2.554693</td>\n",
       "      <td>-0.685311</td>\n",
       "      <td>1.509431</td>\n",
       "      <td>1.444461</td>\n",
       "    </tr>\n",
       "    <tr>\n",
       "      <th>7</th>\n",
       "      <td>-1.785508</td>\n",
       "      <td>3.209348</td>\n",
       "      <td>5.151206</td>\n",
       "      <td>2.098974</td>\n",
       "      <td>4.435323</td>\n",
       "      <td>-4.015089</td>\n",
       "      <td>2.334916</td>\n",
       "      <td>2.126378</td>\n",
       "      <td>2.743971</td>\n",
       "      <td>0.598759</td>\n",
       "    </tr>\n",
       "    <tr>\n",
       "      <th>8</th>\n",
       "      <td>6.879536</td>\n",
       "      <td>4.108498</td>\n",
       "      <td>-4.103917</td>\n",
       "      <td>-0.707381</td>\n",
       "      <td>5.472450</td>\n",
       "      <td>-1.477639</td>\n",
       "      <td>3.331625</td>\n",
       "      <td>2.488497</td>\n",
       "      <td>1.398865</td>\n",
       "      <td>4.000607</td>\n",
       "    </tr>\n",
       "    <tr>\n",
       "      <th>9</th>\n",
       "      <td>1.561886</td>\n",
       "      <td>1.808102</td>\n",
       "      <td>-2.240745</td>\n",
       "      <td>4.927702</td>\n",
       "      <td>0.723531</td>\n",
       "      <td>-0.692903</td>\n",
       "      <td>5.477058</td>\n",
       "      <td>5.616034</td>\n",
       "      <td>9.403917</td>\n",
       "      <td>5.239735</td>\n",
       "    </tr>\n",
       "  </tbody>\n",
       "</table>\n",
       "</div>"
      ],
      "text/plain": [
       "          0         1         2         3         4         5         6  \\\n",
       "0 -5.869106  4.882390  2.249924  2.560904  2.529960 -0.082362 -2.956283   \n",
       "1  3.717857 -2.567607  1.810532  0.631393  4.196561  3.672119  0.139887   \n",
       "2 -1.544618 -2.223348  1.144065 -0.376093 -1.409134 -0.733838  3.368493   \n",
       "3  9.915969  0.633395  4.795035  1.022137 -4.390733 -0.611776  2.359812   \n",
       "4  4.272075 -4.266528  5.422177  0.980811 -4.524399  0.232699  5.752851   \n",
       "5 -0.063346 -4.882026  4.244869  1.682108  5.264801  0.050215 -2.358503   \n",
       "6 -1.557851  4.368646  1.293297  0.210809  2.408091  0.526526  2.554693   \n",
       "7 -1.785508  3.209348  5.151206  2.098974  4.435323 -4.015089  2.334916   \n",
       "8  6.879536  4.108498 -4.103917 -0.707381  5.472450 -1.477639  3.331625   \n",
       "9  1.561886  1.808102 -2.240745  4.927702  0.723531 -0.692903  5.477058   \n",
       "\n",
       "          7         8         9  \n",
       "0  0.291085  3.061636  1.299813  \n",
       "1  0.935988  3.757964 -1.118441  \n",
       "2 -2.749263  3.167388  0.971737  \n",
       "3  3.756437 -2.479159  2.972066  \n",
       "4  0.515522 -1.096346  3.086974  \n",
       "5 -3.203405 -3.403312  3.650486  \n",
       "6 -0.685311  1.509431  1.444461  \n",
       "7  2.126378  2.743971  0.598759  \n",
       "8  2.488497  1.398865  4.000607  \n",
       "9  5.616034  9.403917  5.239735  "
      ]
     },
     "execution_count": 18,
     "metadata": {},
     "output_type": "execute_result"
    }
   ],
   "source": [
    "b"
   ]
  },
  {
   "cell_type": "code",
   "execution_count": null,
   "metadata": {},
   "outputs": [],
   "source": []
  },
  {
   "cell_type": "code",
   "execution_count": null,
   "metadata": {},
   "outputs": [],
   "source": []
  },
  {
   "cell_type": "code",
   "execution_count": null,
   "metadata": {},
   "outputs": [],
   "source": []
  }
 ],
 "metadata": {
  "kernelspec": {
   "display_name": "Python 3",
   "language": "python",
   "name": "python3"
  },
  "language_info": {
   "codemirror_mode": {
    "name": "ipython",
    "version": 3
   },
   "file_extension": ".py",
   "mimetype": "text/x-python",
   "name": "python",
   "nbconvert_exporter": "python",
   "pygments_lexer": "ipython3",
   "version": "3.8.3"
  }
 },
 "nbformat": 4,
 "nbformat_minor": 4
}
